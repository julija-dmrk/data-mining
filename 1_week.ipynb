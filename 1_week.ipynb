{
  "nbformat": 4,
  "nbformat_minor": 0,
  "metadata": {
    "colab": {
      "name": "1 week.ipynb",
      "provenance": []
    },
    "kernelspec": {
      "name": "python3",
      "display_name": "Python 3"
    }
  },
  "cells": [
    {
      "cell_type": "code",
      "metadata": {
        "id": "NG-QQ10Pxyj2"
      },
      "source": [
        "import matplotlib.pyplot as plt\n",
        "import numpy as np\n",
        "from sklearn import datasets, linear_model, model_selection\n",
        "from sklearn.metrics import mean_squared_error, r2_score\n",
        "\n",
        "diabetes_X, diabetes_y = datasets.load_diabetes(return_X_y=True)\n",
        "\n",
        "diabetes_X_bmi = diabetes_X[:, np.newaxis, 2]"
      ],
      "execution_count": 18,
      "outputs": []
    },
    {
      "cell_type": "code",
      "metadata": {
        "colab": {
          "base_uri": "https://localhost:8080/"
        },
        "id": "faLAEVtT1cJn",
        "outputId": "afa32649-76d9-4951-fdbf-06f4ca805f8a"
      },
      "source": [
        "#Lasso model\n",
        "reg = linear_model.Lasso(alpha=0.1)\n",
        "X_train, X_test, y_train, y_test = model_selection.train_test_split(diabetes_X_bmi, diabetes_y, test_size = 0.3, random_state = 42)\n",
        "reg.fit(X_train,y_train)\n",
        "y_pred = reg.predict(X_test)\n",
        "y_pred_train = reg.predict(X_train)\n",
        "\n",
        "r2_train = r2_score(y_train,y_pred_train)\n",
        "mean_square_train = mean_squared_error(y_train, y_pred_train)\n",
        "\n",
        "r2_test = r2_score(y_test, y_pred)\n",
        "mean_square_test = mean_squared_error(y_test, y_pred)\n",
        "\n",
        "print('train r2: %.2f'% (r2_train))\n",
        "print('mean_square_train: %.2f'%(mean_square_train))\n",
        "\n",
        "print('test r2: %.2f'% (r2_test))\n",
        "print('mean_square_test: %.2f'%(mean_square_test))\n"
      ],
      "execution_count": 34,
      "outputs": [
        {
          "output_type": "stream",
          "text": [
            "train r2: 0.37\n",
            "mean_square_train: 3903.80\n",
            "test r2: 0.28\n",
            "mean_square_test: 3862.71\n"
          ],
          "name": "stdout"
        }
      ]
    },
    {
      "cell_type": "code",
      "metadata": {
        "colab": {
          "base_uri": "https://localhost:8080/"
        },
        "id": "O9Z0wRwm5pBI",
        "outputId": "8fb03364-e4f5-41ac-d5d2-a99c06e639d3"
      },
      "source": [
        "#LassoLars\n",
        "reg2 = linear_model.LassoLars(alpha=.1)\n",
        "X_train, X_test, y_train, y_test = model_selection.train_test_split(diabetes_X_bmi, diabetes_y, test_size = 0.3, random_state = 42)\n",
        "reg2.fit(X_train,y_train)\n",
        "y_pred = reg2.predict(X_test)\n",
        "y_pred_train = reg2.predict(X_train)\n",
        "\n",
        "r2_train = r2_score(y_train,y_pred_train)\n",
        "mean_square_train = mean_squared_error(y_train, y_pred_train)\n",
        "\n",
        "r2_test = r2_score(y_test, y_pred)\n",
        "mean_square_test = mean_squared_error(y_test, y_pred)\n",
        "\n",
        "print('train r2: %.2f'% (r2_train))\n",
        "print('mean_square_train: %.2f'%(mean_square_train))\n",
        "\n",
        "print('test r2: %.2f'% (r2_test))\n",
        "print('mean_square_test: %.2f'%(mean_square_test))"
      ],
      "execution_count": 36,
      "outputs": [
        {
          "output_type": "stream",
          "text": [
            "train r2: 0.37\n",
            "mean_square_train: 3902.54\n",
            "test r2: 0.28\n",
            "mean_square_test: 3865.64\n"
          ],
          "name": "stdout"
        }
      ]
    },
    {
      "cell_type": "code",
      "metadata": {
        "colab": {
          "base_uri": "https://localhost:8080/"
        },
        "id": "QQChpa5T6uwD",
        "outputId": "2225bbb3-c1c0-447e-c4d6-5c4ac5727ad5"
      },
      "source": [
        "#Least squares\n",
        "reg3 = linear_model.LinearRegression()\n",
        "X_train, X_test, y_train, y_test = model_selection.train_test_split(diabetes_X_bmi, diabetes_y, test_size = 0.3, random_state = 42)\n",
        "reg3.fit(X_train,y_train)\n",
        "y_pred = reg3.predict(X_test)\n",
        "y_pred_train = reg3.predict(X_train)\n",
        "\n",
        "r2_train = r2_score(y_train,y_pred_train)\n",
        "mean_square_train = mean_squared_error(y_train, y_pred_train)\n",
        "\n",
        "r2_test = r2_score(y_test, y_pred)\n",
        "mean_square_test = mean_squared_error(y_test, y_pred)\n",
        "\n",
        "print('train r2: %.2f'% (r2_train))\n",
        "print('mean_square_train: %.2f'%(mean_square_train))\n",
        "\n",
        "print('test r2: %.2f'% (r2_test))\n",
        "print('mean_square_test: %.2f'%(mean_square_test))"
      ],
      "execution_count": 39,
      "outputs": [
        {
          "output_type": "stream",
          "text": [
            "train r2: 0.37\n",
            "mean_square_train: 3899.45\n",
            "test r2: 0.28\n",
            "mean_square_test: 3884.94\n"
          ],
          "name": "stdout"
        }
      ]
    },
    {
      "cell_type": "code",
      "metadata": {
        "colab": {
          "base_uri": "https://localhost:8080/"
        },
        "id": "SPgL6rjr-msO",
        "outputId": "38dd659b-f0fe-4fac-8253-e9a744ae7809"
      },
      "source": [
        "#Ridge\n",
        "reg4 = linear_model.Ridge(alpha=.1)\n",
        "X_train, X_test, y_train, y_test = model_selection.train_test_split(diabetes_X_bmi, diabetes_y, test_size = 0.3, random_state = 42)\n",
        "reg4.fit(X_train,y_train)\n",
        "y_pred = reg4.predict(X_test)\n",
        "y_pred_train = reg4.predict(X_train)\n",
        "\n",
        "r2_train = r2_score(y_train,y_pred_train)\n",
        "mean_square_train = mean_squared_error(y_train, y_pred_train)\n",
        "\n",
        "r2_test = r2_score(y_test, y_pred)\n",
        "mean_square_test = mean_squared_error(y_test, y_pred)\n",
        "\n",
        "print('train r2: %.2f'% (r2_train))\n",
        "print('mean_square_train: %.2f'%(mean_square_train))\n",
        "\n",
        "print('test r2: %.2f'% (r2_test))\n",
        "print('mean_square_test: %.2f'%(mean_square_test))"
      ],
      "execution_count": 41,
      "outputs": [
        {
          "output_type": "stream",
          "text": [
            "train r2: 0.36\n",
            "mean_square_train: 3933.62\n",
            "test r2: 0.29\n",
            "mean_square_test: 3843.59\n"
          ],
          "name": "stdout"
        }
      ]
    }
  ]
}