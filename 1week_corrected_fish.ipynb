{
  "nbformat": 4,
  "nbformat_minor": 0,
  "metadata": {
    "colab": {
      "name": "Untitled0.ipynb",
      "provenance": [],
      "authorship_tag": "ABX9TyMias20JCzkRwaNtEQYIZxn",
      "include_colab_link": true
    },
    "kernelspec": {
      "name": "python3",
      "display_name": "Python 3"
    }
  },
  "cells": [
    {
      "cell_type": "markdown",
      "metadata": {
        "id": "view-in-github",
        "colab_type": "text"
      },
      "source": [
        "<a href=\"https://colab.research.google.com/github/julija-dmrk/data-mining/blob/main/1week_corrected_fish.ipynb\" target=\"_parent\"><img src=\"https://colab.research.google.com/assets/colab-badge.svg\" alt=\"Open In Colab\"/></a>"
      ]
    },
    {
      "cell_type": "code",
      "metadata": {
        "id": "13UapVcpBRuq"
      },
      "source": [
        "import matplotlib.pyplot as plt   # visualization\n",
        "import seaborn as sns             # visualization\n",
        "import numpy as np                # data manipulation\n",
        "import pandas as pd               # data manipulation, data processing, CSV file I/O (e.g. pd.read_csv\n",
        "# from sklearn import datasets, model_selection\n",
        "# import statsmodels.api as sm\n",
        "# import statsmodels.formula.api as smf\n",
        "from sklearn.decomposition import PCA\n",
        "from sklearn.linear_model import Lasso, LassoCV, Ridge, RidgeCV, LinearRegression\n",
        "from sklearn.neighbors import KNeighborsRegressor\n",
        "from sklearn.metrics import mean_squared_error, r2_score, explained_variance_score\n",
        "from sklearn.model_selection import KFold, StratifiedKFold, LeaveOneOut, cross_val_score, cross_validate, GridSearchCV, train_test_split\n",
        "\n",
        "# load data\n",
        "url=\"https://raw.githubusercontent.com/VitaT/ML-python/main/data/fish.csv\"\n",
        "data = pd.read_csv(url)"
      ],
      "execution_count": 2,
      "outputs": []
    },
    {
      "cell_type": "markdown",
      "metadata": {
        "id": "xU7cEpa-GKbK"
      },
      "source": [
        "Exploring Data"
      ]
    },
    {
      "cell_type": "code",
      "metadata": {
        "id": "o4gcq4pfGDQz",
        "colab": {
          "base_uri": "https://localhost:8080/"
        },
        "outputId": "baca4e84-d615-48aa-e721-adf62e2b74e3"
      },
      "source": [
        "# first checking for missing values\n",
        "data.isnull().values.any()"
      ],
      "execution_count": 3,
      "outputs": [
        {
          "output_type": "execute_result",
          "data": {
            "text/plain": [
              "False"
            ]
          },
          "metadata": {
            "tags": []
          },
          "execution_count": 3
        }
      ]
    },
    {
      "cell_type": "code",
      "metadata": {
        "id": "YweVXCbnGVDT"
      },
      "source": [
        "# exploring species distribution\n",
        "sp = data[\"Species\"].value_counts()\n",
        "plt.bar(sp.index, sp, width=0.8)\n",
        "plt.xlabel('Species')\n",
        "plt.ylabel('Counts of Species')"
      ],
      "execution_count": null,
      "outputs": []
    },
    {
      "cell_type": "code",
      "metadata": {
        "id": "y_UXA5QZCeDD"
      },
      "source": [
        "data = pd.read_csv(url)\n",
        "y = data[\"Weight\"]\n",
        "x = pd.get_dummies(data, columns = ['Species']).drop(\"Weight\", axis = 1)\n",
        "#susidarom vektorius, kurie paaiskina daugiausiai duomenu variacijos (sudaryti is kintamuju tiesines formules)\n",
        "#konstanta nereikalinga formuoti priklausomaji kintamaji\n",
        "#PCA turim pateikti skaitines reiksmes, todel kategorinius verciamia i dummy variables \n",
        "#one hot encoding"
      ],
      "execution_count": 5,
      "outputs": []
    },
    {
      "cell_type": "markdown",
      "metadata": {
        "id": "BF9v269Yi-xw"
      },
      "source": [
        "Creating PCA estimators"
      ]
    },
    {
      "cell_type": "code",
      "metadata": {
        "id": "uObLWjMbiFtq"
      },
      "source": [
        "# create PCA estimator\n",
        "pca = PCA()\n",
        "\n",
        "features_pca = pca.fit_transform(x)\n",
        "# results\n",
        "features_pca.shape\n",
        "# pca = PCA(n_components=x.shape[1], whiten=True)\n",
        "\n",
        "# variance explained\n",
        "pca_var_ex = pd.Series(pca.explained_variance_ratio_)\n",
        "\n",
        "plt.plot(pca_var_ex.index, pca_var_ex, marker = \".\")\n",
        "plt.ylabel(\"variance explained\")\n",
        "plt.xlabel(\"number of principal components\")\n",
        "# When we perform a decomposition on, we always emphasize the \"most important synthetic features.\" \n",
        "# The result of this for PCA specifically - the variance decreases with each PCA feature.\n",
        "\n",
        "# There can be a secondary de-emphasis of some features that is too strong. \n",
        "# It depends on the specific kind of model used, but for many models a numeric \n",
        "# feature ranging from 0 to 100 will simply have more effect than a feature varying \n",
        "## from 0 to 1 just because it contributes bigger numbers to the calculation. \n",
        "# Usually it is better to let a model select the importances of features than to judge it in advance with feature engineering.\n",
        "\n",
        "#1PCA explains 100 variance, and others explains almost nothing- it's bad example of PCA\n",
        "#PCA turi tendencija clusterizuotis, tikriausiai duomenys atsiskiria pagal rusis"
      ],
      "execution_count": null,
      "outputs": []
    },
    {
      "cell_type": "code",
      "metadata": {
        "id": "ADJmi22ljTZx"
      },
      "source": [
        "# We can see how the two PCA components are derived by linear combination of the original 30.\n",
        "pca.components_\n",
        "#parodo kaip kiekviena komponente susijusi su predictoriais\n",
        "#vizualizuoti:\n",
        "nfeat = x.shape[1]\n",
        "plt.figure(figsize=(20,15))\n",
        "plt.matshow(pca.components_[:,:nfeat], cmap='viridis')\n",
        "plt.yticks([0, 1], [\"first component\", \"second component\"])\n",
        "plt.colorbar()\n",
        "plt.xticks(range(nfeat), x.columns, rotation=90, ha='left')\n",
        "plt.xlabel(\"pca_components\") \n",
        "\n",
        "#Jei skaleje yra dideles vertes, tai nelygiaverciai koeficientai vieno ir kito kintamojo. Todel visada naudinga\n",
        "#atlikti standartizavima."
      ],
      "execution_count": null,
      "outputs": []
    },
    {
      "cell_type": "code",
      "metadata": {
        "id": "FTeDHxRBmzMn",
        "outputId": "bfad224f-fa73-4795-8a2a-b2eeb66fc890",
        "colab": {
          "base_uri": "https://localhost:8080/",
          "height": 296
        }
      },
      "source": [
        "#Standartizavimas\n",
        "from sklearn.preprocessing import StandardScaler\n",
        "scaled_x = StandardScaler().fit_transform(x)\n",
        "scaled_x.mean(axis = 0) #vertes labai arti nulio, o std -1\n",
        "scaled_x.std(axis = 0) #z transformacija nunulina vidurki i 0 - suvienodinam std\n",
        "\n",
        "scaled_y = (y - y.mean()) / y.std()\n",
        "\n",
        "# create PCA estimator\n",
        "pca = PCA()\n",
        "# Conduct PCA\n",
        "features_scaled_pca = pca.fit_transform(scaled_x)\n",
        "# Show results\n",
        "features_scaled_pca.shape\n",
        "\n",
        "# variance explained\n",
        "pca_var_ex = pd.Series(pca.explained_variance_ratio_)\n",
        "\n",
        "plt.plot(pca_var_ex.index, pca_var_ex, marker = \".\")\n",
        "plt.ylabel(\"variance explained\")\n",
        "plt.xlabel(\"number of principal components\")"
      ],
      "execution_count": 15,
      "outputs": [
        {
          "output_type": "execute_result",
          "data": {
            "text/plain": [
              "Text(0.5, 0, 'number of principal components')"
            ]
          },
          "metadata": {
            "tags": []
          },
          "execution_count": 15
        },
        {
          "output_type": "display_data",
          "data": {
            "image/png": "[encoded data removed]",
            "text/plain": [
              "<Figure size 432x288 with 1 Axes>"
            ]
          },
          "metadata": {
            "tags": [],
            "needs_background": "light"
          }
        }
      ]
    },
    {
      "cell_type": "code",
      "metadata": {
        "id": "bC_cRv-3o5dc"
      },
      "source": [
        "# again composition, bus after scaling\n",
        "nfeat = x.shape[1]\n",
        "plt.figure(figsize=(20,15))\n",
        "plt.matshow(pca.components_[:,:nfeat], cmap='viridis')\n",
        "# plt.yticks([0, 1], [\"first component\", \"second component\"])\n",
        "plt.colorbar()\n",
        "plt.xticks(range(nfeat), x.columns, rotation=90, ha='left')\n",
        "plt.xlabel(\"pca_components\")\n",
        "#matome, kad pasikeicia komponentes ir predictoriu sasaja"
      ],
      "execution_count": null,
      "outputs": []
    },
    {
      "cell_type": "markdown",
      "metadata": {
        "id": "oDq9EjqbqOEp"
      },
      "source": [
        "Prediction models"
      ]
    },
    {
      "cell_type": "code",
      "metadata": {
        "id": "NgFu8KiCO-Yw"
      },
      "source": [
        "#testing set\n",
        "# dirbsim su 90% train data set'o duomenu ir naudosim cross-validation\n",
        "x, x_out, y, y_out = train_test_split(scaled_x, scaled_y, test_size = 0.1, random_state = 0)\n",
        "#abejais atvejais duomenys scalinti, tik su x dar PCA\n",
        "x_pca, x_out_pca, y, y_out = train_test_split(features_scaled_pca, scaled_y, test_size=0.1 , random_state=0)\n",
        "\n",
        "#resultatai bus prideti i modelio dictionary\n",
        "model_score = {}\n",
        "\n",
        "n = scaled_x.shape[1]"
      ],
      "execution_count": 18,
      "outputs": []
    },
    {
      "cell_type": "code",
      "metadata": {
        "id": "udClUke0t5yb"
      },
      "source": [
        "#KNN MODEL - vienintelis neparemtas tiesine regresija\n",
        "k_range = range(1, n)  #k vertei surasti reikia ciklo\n",
        "all_scores = []\n",
        "mean_scores = []\n",
        "# Calculating error for K values between 1 and 12\n",
        "# Kiekvienam k_range fitinam modeli, apsiskaiciuojam test cross_validation scores\n",
        "# KFold - i 10 skilciu suskaidom savo duomenis ir atsikartojamumui turim 1\n",
        "for i in k_range:\n",
        "    knn = KNeighborsRegressor(n_neighbors=i)\n",
        "    scores = cross_val_score(knn, x, y, scoring='neg_mean_squared_error', cv = KFold(10, True, 1))\n",
        "    all_scores.append(scores) #apskaiciuojam visas scores\n",
        "    mean_scores.append(np.mean(scores)) #scores vidurkis\n",
        "\n",
        "#Pagal vidurki geriausia k_verte - 2, jei didinam kaimynu skaiciu modelis - per lankstus\n",
        "## testavimo vertes krenta. Isiskiria 3 testavimo setai, kurie nuvertina duomenis\n",
        "plt.figure(figsize=(12, 6))\n",
        "plt.plot(k_range, all_scores, color='blue', linestyle='dashed', marker='o', markerfacecolor='blue')\n",
        "plt.plot(k_range, mean_scores, color='red', linestyle='dashed', marker='o', markerfacecolor='red')\n",
        "plt.xlabel('K Value')\n",
        "plt.ylabel('score')"
      ],
      "execution_count": null,
      "outputs": []
    },
    {
      "cell_type": "code",
      "metadata": {
        "id": "k0ssQ5u2uHy2"
      },
      "source": [
        "knn = KNeighborsRegressor(n_neighbors=2)\n",
        "knn_scores = cross_val_score(knn, x, y, scoring='neg_mean_squared_error', cv = KFold(10, True, 1))\n",
        "model_score[\"knn\"] = [knn, knn_scores, knn_scores.mean(), knn_scores.std()]\n",
        "# i model score issisaugojam visa modeli, pakartojimo testavimo verte ir ju vidurki ir std\n",
        "## std = 1"
      ],
      "execution_count": null,
      "outputs": []
    },
    {
      "cell_type": "code",
      "metadata": {
        "id": "b6Yos5nWwC3w"
      },
      "source": [
        "#LASSO MODEL - reikia alfa reiksmes. \n",
        "\n",
        "column = pd.get_dummies(data, columns=[\"Species\"]).drop(\"Weight\", axis = 1).columns\n",
        "\n",
        "# finding out the parameter\n",
        "lasso_CVm = LassoCV(cv=KFold(10, True, 1), random_state=0, max_iter = 10000)\n",
        "lasso_CVm.fit(x, y)\n",
        "\n",
        "lasso_CVm.coef_ #Parodo ar kas buvo nunulinta\n",
        "column[lasso_CVm.coef_ != 0] # which coeficents are non-zero\n",
        "lasso_alpha = lasso_CVm.alpha_\n",
        "\n",
        "# CV the model with parameter. Defaultine verte iteraciju 999, bet \n",
        "#pas mus 10000 - bandom rasti tinkama minimuma, kuris mum tinkamas, kartojam daug kartu\n",
        "#ir ziurim i kokia verte konvertuoja duomenys. Ieskom iteratyviai, o ne pagal formule\n",
        "#Jei nesueina i 1-a stabilia reiksme tai reiskia arba per mazai pakartojimu arba\n",
        "#duomenys yra sunkiai modeliuojami. Del tokio erroro pirmiausiai bandom padidinti iteraciju skaiciu\n",
        "lasso_m = Lasso(alpha = lasso_alpha, random_state=0, max_iter = 10000)\n",
        "lasso_scores = cross_val_score(lasso_m, x, y, cv=KFold(10, True, 1), scoring='neg_mean_squared_error')\n",
        "model_score[\"lasso\"] = [lasso_m, lasso_scores, lasso_scores.mean(), lasso_scores.std(), column[lasso_CVm.coef_ != 0]]\n",
        "#model_score po index issirasom kokius papildomus kintamuosius turime"
      ],
      "execution_count": null,
      "outputs": []
    },
    {
      "cell_type": "code",
      "metadata": {
        "id": "b2S1YFwLybF0"
      },
      "source": [
        "# Ridge - panasiai kaip lasso, randam coeficientu vertes ir alfa\n",
        "# finding out the parameter\n",
        "ridge_CVm = RidgeCV(cv=KFold(10, True, 1))\n",
        "ridge_CVm.fit(x, y)\n",
        "\n",
        "ridge_CVm.coef_\n",
        "pd.DataFrame({\"coef\":ridge_CVm.coef_, \"c\": column}).sort_values(by = \"coef\")\n",
        "ridge_alpha = ridge_CVm.alpha_\n",
        "\n",
        "# CV the model with parameter\n",
        "ridge_m = Ridge(alpha = ridge_alpha)\n",
        "ridge_scores = cross_val_score(ridge_m, x, y, cv=KFold(10, True, 1), scoring='neg_mean_squared_error')\n",
        "model_score[\"ridge\"] = [ridge_m, ridge_scores, ridge_scores.mean(), ridge_scores.std()]\n",
        "#is model score ziurim pagal scores.mean ir matom, jog knn veikia geriausiai"
      ],
      "execution_count": null,
      "outputs": []
    },
    {
      "cell_type": "code",
      "metadata": {
        "id": "QAicdwuKzcnP",
        "outputId": "71b29245-0710-4a9c-b7b8-267e7e2cc3f9",
        "colab": {
          "base_uri": "https://localhost:8080/"
        }
      },
      "source": [
        "# LINEAR REGRESSION MODEL\n",
        "regr = LinearRegression() \n",
        "regr.fit(x, y)\n",
        "# LR the model with parameter\n",
        "regr_scores = cross_val_score(regr, x, y, cv=KFold(10, True, 1), scoring='neg_mean_squared_error')\n",
        "model_score[\"lr full\"] = [regr, regr_scores, regr_scores.mean(), regr_scores.std()]\n",
        "#Pilnas modelis veikia prasciau nei Ridge metodas\n",
        "\n",
        "# linear regression model with PC - paziurim ar visus musu duomenis gali PCA paaiskinti\n",
        "regr_pca = LinearRegression()\n",
        "regr_pca.fit(x_pca[:, 0:6], y)\n",
        "# LR the model with parameter\n",
        "regr_pca_scores = cross_val_score(regr_pca, x, y, cv=KFold(10, True, 1), scoring='neg_mean_squared_error')\n",
        "model_score[\"lr_pca\"] = [regr_pca, regr_pca_scores, regr_pca_scores.mean(), regr_pca_scores.std(), regr_pca.coef_]\n",
        "\n",
        "# linear regression model with PC 2 - kadangi lr_pca = lr full - paimam dar dvi PCA komponentas ir matom, kad praktiskai tas pats rezultatas\n",
        "#PCA vistiek paaiskina didele dali musu duomenu.\n",
        "regr_pca = LinearRegression()\n",
        "regr_pca.fit(x_pca[:, 0:1], y)\n",
        "regr_pca.coef_\n",
        "# LR the model with parameter\n",
        "regr_pca_scores = cross_val_score(regr_pca, x, y, cv=KFold(10, True, 1), scoring='neg_mean_squared_error')\n",
        "model_score[\"lr_pca_2\"] = [regr_pca, regr_pca_scores, regr_pca_scores.mean(), regr_pca_scores.std(), regr_pca.coef_]\n"
      ],
      "execution_count": 44,
      "outputs": [
        {
          "output_type": "execute_result",
          "data": {
            "text/plain": [
              "{'knn': [KNeighborsRegressor(algorithm='auto', leaf_size=30, metric='minkowski',\n",
              "                      metric_params=None, n_jobs=None, n_neighbors=2, p=2,\n",
              "                      weights='uniform'),\n",
              "  array([-0.00874593, -0.00699569, -0.02686646, -0.0190393 , -0.06320657,\n",
              "         -0.01418085, -0.00888817, -0.01190901, -0.01876759, -0.08914292]),\n",
              "  -0.026774249350816303,\n",
              "  0.02599384977954183],\n",
              " 'lasso': [Lasso(alpha=0.0014706045965648745, copy_X=True, fit_intercept=True,\n",
              "        max_iter=10000, normalize=False, positive=False, precompute=False,\n",
              "        random_state=0, selection='cyclic', tol=0.0001, warm_start=False),\n",
              "  array([-0.05897862, -0.06923322, -0.11969678, -0.10444775, -0.10858619,\n",
              "         -0.05173586, -0.15796483, -0.04181646, -0.05195956, -0.0586541 ]),\n",
              "  -0.08230733613088789,\n",
              "  0.03615598564369535,\n",
              "  Index(['Length2', 'Length3', 'Species_Bream', 'Species_Parkki', 'Species_Pike',\n",
              "         'Species_Roach', 'Species_Smelt'],\n",
              "        dtype='object')],\n",
              " 'lr full': [LinearRegression(copy_X=True, fit_intercept=True, n_jobs=None, normalize=False),\n",
              "  array([-0.06454141, -0.06985156, -0.11354362, -0.09988145, -0.1029341 ,\n",
              "         -0.05483936, -0.18232529, -0.04677176, -0.05650198, -0.06575684]),\n",
              "  -0.08569473858515918,\n",
              "  0.038764341779718235],\n",
              " 'lr_pca': [LinearRegression(copy_X=True, fit_intercept=True, n_jobs=None, normalize=False),\n",
              "  array([-0.06454141, -0.06985156, -0.11354362, -0.09988145, -0.1029341 ,\n",
              "         -0.05483936, -0.18232529, -0.04677176, -0.05650198, -0.06575684]),\n",
              "  -0.08569473858515918,\n",
              "  0.038764341779718235,\n",
              "  array([ 0.39871464,  0.03297949, -0.0058012 , -0.08212153, -0.03482938,\n",
              "          0.06350017])],\n",
              " 'lr_pca_2': [LinearRegression(copy_X=True, fit_intercept=True, n_jobs=None, normalize=False),\n",
              "  array([-0.06454141, -0.06985156, -0.11354362, -0.09988145, -0.1029341 ,\n",
              "         -0.05483936, -0.18232529, -0.04677176, -0.05650198, -0.06575684]),\n",
              "  -0.08569473858515918,\n",
              "  0.038764341779718235,\n",
              "  array([0.39893947])],\n",
              " 'ridge': [Ridge(alpha=1.0, copy_X=True, fit_intercept=True, max_iter=None,\n",
              "        normalize=False, random_state=None, solver='auto', tol=0.001),\n",
              "  array([-0.05789066, -0.07068223, -0.12540946, -0.10653714, -0.11947432,\n",
              "         -0.05272694, -0.14951718, -0.04140762, -0.05338823, -0.06013539]),\n",
              "  -0.08371691621992447,\n",
              "  0.035959099335940686]}"
            ]
          },
          "metadata": {
            "tags": []
          },
          "execution_count": 44
        }
      ]
    },
    {
      "cell_type": "markdown",
      "metadata": {
        "id": "vLId90L71rhe"
      },
      "source": [
        "Geriausiai veikia Lasso be PCA komponenciu ir KNN"
      ]
    },
    {
      "cell_type": "code",
      "metadata": {
        "id": "d0lEn9D302cD"
      },
      "source": [
        ""
      ],
      "execution_count": null,
      "outputs": []
    }
  ]
}