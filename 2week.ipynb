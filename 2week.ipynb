{
  "nbformat": 4,
  "nbformat_minor": 0,
  "metadata": {
    "colab": {
      "name": "2week.ipynb",
      "provenance": [],
      "collapsed_sections": [],
      "authorship_tag": "ABX9TyPBZHroFwoew2jJWPRrbdMV",
      "include_colab_link": true
    },
    "kernelspec": {
      "name": "python3",
      "display_name": "Python 3"
    }
  },
  "cells": [
    {
      "cell_type": "markdown",
      "metadata": {
        "id": "view-in-github",
        "colab_type": "text"
      },
      "source": [
        "<a href=\"https://colab.research.google.com/github/julija-dmrk/data-mining/blob/main/2week.ipynb\" target=\"_parent\"><img src=\"https://colab.research.google.com/assets/colab-badge.svg\" alt=\"Open In Colab\"/></a>"
      ]
    },
    {
      "cell_type": "code",
      "metadata": {
        "id": "sCIVRqzb35Gh"
      },
      "source": [
        "import matplotlib.pyplot as plt   # visualization\n",
        "import seaborn as sns             # visualization\n",
        "import numpy as np                # data manipulation\n",
        "import pandas as pd               # data manipulation, data processing, CSV file I/O (e.g. pd.read_csv\n",
        "# from sklearn import datasets, model_selection\n",
        "# import statsmodels.api as sm\n",
        "# import statsmodels.formula.api as smf\n",
        "from sklearn.decomposition import PCA\n",
        "from sklearn.linear_model import Lasso, LassoCV, Ridge, RidgeCV, LinearRegression\n",
        "from sklearn.neighbors import KNeighborsRegressor\n",
        "from sklearn.metrics import mean_squared_error, r2_score, explained_variance_score\n",
        "from sklearn.model_selection import KFold, StratifiedKFold, LeaveOneOut, cross_val_score, cross_validate, GridSearchCV, train_test_split\n"
      ],
      "execution_count": 2,
      "outputs": []
    },
    {
      "cell_type": "markdown",
      "metadata": {
        "id": "NkCBdThCn5P8"
      },
      "source": [
        "url = \"https://raw.githubusercontent.com/VitaT/ML-python/main/data/fish_test.csv\"\n",
        "test_data = pd.read_csv(url, usecols=range(1,8))\n",
        "\n",
        "from sklearn.preprocessing import StandardScaler\n",
        "\n",
        "y=test_data[\"Weight\"]\n",
        "test_data = pd.get_dummies(test_data, columns=[\"Species\"])\n",
        "scaled_test_data = StandardScaler().fit_transform(test_data)\n",
        "i = pd.DataFrame([0] * 12, columns=[\"A\"])\n",
        "test = pd.DataFrame(scaled_test_data)\n",
        "test.insert(9, \"A\", i)\n",
        "test = np.array(test)\n",
        "\n",
        "scaled_test_data\n",
        "\n",
        "x, x_out, y, y_out = train_test_split(test_data, y, test_size = 0.1, random_state = 0)\n",
        "\n",
        "knn = KNeighborsRegressor(n_neighbors=2)\n",
        "\n",
        "knn.fit(test_data, y)\n",
        "y_pred_train = knn.predict(test_data)\n",
        "y_pred_test = knn.predict(x_out)\n",
        " \n",
        "test_data_y = test[:, 1]\n",
        "test_data_x = test[:, 1:]\n",
        "# predictions\n",
        "y_test_true_pred = knn.predict(test_data_x)\n",
        "plt.scatter(y_pred_test, y_out)\n",
        "plt.plot(y_out, y_out,'k-') # identity line\n",
        "\n",
        "((y_out - y_pred_test)**2).mean()\n",
        "knn.score(x_out, y_out)"
      ]
    },
    {
      "cell_type": "markdown",
      "metadata": {
        "id": "bo_GVSXGnrjA"
      },
      "source": [
        ""
      ]
    },
    {
      "cell_type": "code",
      "metadata": {
        "id": "9o5uqaCMkbfr"
      },
      "source": [
        "import matplotlib.pyplot as plt   # visualization\n",
        "import seaborn as sns             # visualization\n",
        "import numpy as np                # data manipulation\n",
        "import pandas as pd               # data manipulation, data processing, CSV file I/O (e.g. pd.read_csv\n",
        "# from sklearn import datasets, model_selection\n",
        "# import statsmodels.api as sm\n",
        "# import statsmodels.formula.api as smf\n",
        "from sklearn.decomposition import PCA\n",
        "from sklearn.linear_model import Lasso, LassoCV, Ridge, RidgeCV, LinearRegression\n",
        "from sklearn.neighbors import KNeighborsRegressor\n",
        "from sklearn.metrics import mean_squared_error, r2_score, explained_variance_score\n",
        "from sklearn.model_selection import KFold, StratifiedKFold, LeaveOneOut, cross_val_score, cross_validate, GridSearchCV, train_test_split"
      ],
      "execution_count": 3,
      "outputs": []
    },
    {
      "cell_type": "code",
      "metadata": {
        "colab": {
          "base_uri": "https://localhost:8080/"
        },
        "id": "IqJiqlDLiT6D",
        "outputId": "17f61938-bcdb-40c0-8a6d-a05392d59ccc"
      },
      "source": [
        "url= 'https://raw.githubusercontent.com/VitaT/ML-python/main/data/suicides.csv'\n",
        "data = pd.read_csv(url)\n",
        "data.head()\n",
        "data.tail()\n",
        "data.info()\n",
        "print(\"\\n\".join(data.columns))\n",
        "data.columns = ['ID','sex', 'age', 'suicides_no', 'pop', 'suicides_pop', 'country-year', 'HDI', 'gdp_year', 'gdp_capita','generation']\n",
        "data.drop(\"ID\", axis = 1, inplace = True)"
      ],
      "execution_count": 4,
      "outputs": [
        {
          "output_type": "stream",
          "text": [
            "<class 'pandas.core.frame.DataFrame'>\n",
            "RangeIndex: 27820 entries, 0 to 27819\n",
            "Data columns (total 11 columns):\n",
            " #   Column              Non-Null Count  Dtype  \n",
            "---  ------              --------------  -----  \n",
            " 0   ID                  27820 non-null  int64  \n",
            " 1   sex                 27820 non-null  object \n",
            " 2   age                 27820 non-null  object \n",
            " 3   suicides_no         27820 non-null  int64  \n",
            " 4   population          27820 non-null  int64  \n",
            " 5   suicides/100k pop   27808 non-null  float64\n",
            " 6   country-year        27820 non-null  object \n",
            " 7   HDI for year        8364 non-null   float64\n",
            " 8   gdp_for_year ($)    27820 non-null  int64  \n",
            " 9   gdp_per_capita ($)  27820 non-null  int64  \n",
            " 10  generation          27820 non-null  object \n",
            "dtypes: float64(2), int64(5), object(4)\n",
            "memory usage: 2.3+ MB\n",
            "ID\n",
            "sex\n",
            "age\n",
            "suicides_no\n",
            "population\n",
            "suicides/100k pop\n",
            "country-year\n",
            "HDI for year\n",
            "gdp_for_year ($)\n",
            "gdp_per_capita ($)\n",
            "generation\n"
          ],
          "name": "stdout"
        }
      ]
    },
    {
      "cell_type": "code",
      "metadata": {
        "colab": {
          "base_uri": "https://localhost:8080/",
          "height": 166
        },
        "id": "QZrHgjrqC6K5",
        "outputId": "608073b0-3ab4-4f90-b682-208a449918a0"
      },
      "source": [
        "id_column = 'generation'\n",
        "data[id_column].value_counts()\n",
        "data.describe(include=[\"object\"])"
      ],
      "execution_count": 5,
      "outputs": [
        {
          "output_type": "execute_result",
          "data": {
            "text/html": [
              "<div>\n",
              "<style scoped>\n",
              "    .dataframe tbody tr th:only-of-type {\n",
              "        vertical-align: middle;\n",
              "    }\n",
              "\n",
              "    .dataframe tbody tr th {\n",
              "        vertical-align: top;\n",
              "    }\n",
              "\n",
              "    .dataframe thead th {\n",
              "        text-align: right;\n",
              "    }\n",
              "</style>\n",
              "<table border=\"1\" class=\"dataframe\">\n",
              "  <thead>\n",
              "    <tr style=\"text-align: right;\">\n",
              "      <th></th>\n",
              "      <th>sex</th>\n",
              "      <th>age</th>\n",
              "      <th>country-year</th>\n",
              "      <th>generation</th>\n",
              "    </tr>\n",
              "  </thead>\n",
              "  <tbody>\n",
              "    <tr>\n",
              "      <th>count</th>\n",
              "      <td>27820</td>\n",
              "      <td>27820</td>\n",
              "      <td>27820</td>\n",
              "      <td>27820</td>\n",
              "    </tr>\n",
              "    <tr>\n",
              "      <th>unique</th>\n",
              "      <td>2</td>\n",
              "      <td>6</td>\n",
              "      <td>2321</td>\n",
              "      <td>6</td>\n",
              "    </tr>\n",
              "    <tr>\n",
              "      <th>top</th>\n",
              "      <td>female</td>\n",
              "      <td>15-24 years</td>\n",
              "      <td>El Salvador2010</td>\n",
              "      <td>Generation X</td>\n",
              "    </tr>\n",
              "    <tr>\n",
              "      <th>freq</th>\n",
              "      <td>13910</td>\n",
              "      <td>4642</td>\n",
              "      <td>12</td>\n",
              "      <td>6408</td>\n",
              "    </tr>\n",
              "  </tbody>\n",
              "</table>\n",
              "</div>"
            ],
            "text/plain": [
              "           sex          age     country-year    generation\n",
              "count    27820        27820            27820         27820\n",
              "unique       2            6             2321             6\n",
              "top     female  15-24 years  El Salvador2010  Generation X\n",
              "freq     13910         4642               12          6408"
            ]
          },
          "metadata": {
            "tags": []
          },
          "execution_count": 5
        }
      ]
    },
    {
      "cell_type": "code",
      "metadata": {
        "id": "TUAeCtIcMV8T"
      },
      "source": [
        "data.isna().sum()\n",
        "data.drop(\"HDI\", axis = 1, inplace = True)"
      ],
      "execution_count": 6,
      "outputs": []
    },
    {
      "cell_type": "code",
      "metadata": {
        "id": "HHkA_WkcI5h-"
      },
      "source": [
        "data.isna().sum()\n",
        "data.fillna(data.mean(), inplace=True)"
      ],
      "execution_count": 7,
      "outputs": []
    },
    {
      "cell_type": "code",
      "metadata": {
        "id": "P0_Ff9mLM59T"
      },
      "source": [
        "data_d = pd.get_dummies(data)"
      ],
      "execution_count": 8,
      "outputs": []
    },
    {
      "cell_type": "code",
      "metadata": {
        "id": "i8gt1d-aWrr2"
      },
      "source": [
        "#data.drop(\"gdp_year\", axis = 1, inplace = True)"
      ],
      "execution_count": null,
      "outputs": []
    },
    {
      "cell_type": "code",
      "metadata": {
        "colab": {
          "base_uri": "https://localhost:8080/"
        },
        "id": "qVLLNwwJNuPM",
        "outputId": "367b4d46-ff3f-4d42-8653-653973acb58c"
      },
      "source": [
        "x = data_d.drop(\"suicides_no\", axis = 1)\n",
        "y = data_d.suicides_no\n",
        "\n",
        "\n",
        "regr = LinearRegression()\n",
        "regr.fit(x,y)\n",
        "regr.score(x, y)"
      ],
      "execution_count": 9,
      "outputs": [
        {
          "output_type": "execute_result",
          "data": {
            "text/plain": [
              "0.5954416360941871"
            ]
          },
          "metadata": {
            "tags": []
          },
          "execution_count": 9
        }
      ]
    },
    {
      "cell_type": "code",
      "metadata": {
        "colab": {
          "base_uri": "https://localhost:8080/"
        },
        "id": "oRu3joYTQxXY",
        "outputId": "de5ad318-0270-4f07-c64c-f230d4fb51e6"
      },
      "source": [
        "\n",
        "reg=LinearRegression()\n",
        "X_train, X_test, y_train, y_test = train_test_split(x, y, random_state=1, test_size=0.3)\n",
        "\n",
        "reg.fit(X_train,y_train)\n",
        "y_pred = reg.predict(X_test)\n",
        "y_pred_train = reg.predict(X_train)\n",
        "\n",
        "r2_train = r2_score(y_train,y_pred_train)\n",
        "mean_square_train = mean_squared_error(y_train, y_pred_train)\n",
        "\n",
        "r2_test = r2_score(y_test, y_pred)\n",
        "mean_square_test = mean_squared_error(y_test, y_pred)\n",
        "\n",
        "print('train r2: %.2f'% (r2_train))\n",
        "print('mean_square_train: %.2f'%(mean_square_train))\n",
        "\n",
        "print('test r2: %.2f'% (r2_test))\n",
        "print('mean_square_test: %.2f'%(mean_square_test))"
      ],
      "execution_count": 10,
      "outputs": [
        {
          "output_type": "stream",
          "text": [
            "train r2: 0.61\n",
            "mean_square_train: 316013.13\n",
            "test r2: 0.50\n",
            "mean_square_test: 414708.51\n"
          ],
          "name": "stdout"
        }
      ]
    },
    {
      "cell_type": "code",
      "metadata": {
        "id": "4AxZEX9RLGpQ",
        "colab": {
          "base_uri": "https://localhost:8080/"
        },
        "outputId": "6b0e070e-dea9-434a-98cb-13e88aa8c624"
      },
      "source": [
        "reg2=LinearRegression()\n",
        "y=data.suicides_no\n",
        "x=pd.get_dummies(data,columns=['sex','age','generation']).drop(columns=['suicides_no','country-year'])\n",
        "\n",
        "\n",
        "X_train, X_test, y_train, y_test = train_test_split(x, y, random_state=1, test_size=0.3)\n",
        "\n",
        "reg.fit(X_train,y_train)\n",
        "y_pred = reg.predict(X_test)\n",
        "y_pred_train = reg.predict(X_train)\n",
        "\n",
        "r2_train = r2_score(y_train,y_pred_train)\n",
        "mean_square_train = mean_squared_error(y_train, y_pred_train)\n",
        "\n",
        "r2_test = r2_score(y_test, y_pred)\n",
        "mean_square_test = mean_squared_error(y_test, y_pred)\n",
        "\n",
        "print('train r2: %.2f'% (r2_train))\n",
        "print('mean_square_train: %.2f'%(mean_square_train))\n",
        "\n",
        "print('test r2: %.2f'% (r2_test))\n",
        "print('mean_square_test: %.2f'%(mean_square_test))"
      ],
      "execution_count": 11,
      "outputs": [
        {
          "output_type": "stream",
          "text": [
            "train r2: 0.47\n",
            "mean_square_train: 427472.11\n",
            "test r2: 0.49\n",
            "mean_square_test: 421611.13\n"
          ],
          "name": "stdout"
        }
      ]
    },
    {
      "cell_type": "code",
      "metadata": {
        "id": "oaipTHmPXLMb"
      },
      "source": [
        "#KNN - very long program, I couldn't wait till results\n",
        "from sklearn.preprocessing import StandardScaler\n",
        "scaled_x = StandardScaler().fit_transform(x)\n",
        "scaled_y = (y - y.mean()) / y.std()\n",
        "n = scaled_x.shape[1]\n",
        "\n",
        "k_range = range(1, n) \n",
        "all_scores = []\n",
        "mean_scores = []\n",
        "for i in k_range:\n",
        "    knn = KNeighborsRegressor(n_neighbors=i)\n",
        "    scores = cross_val_score(knn, x, y, scoring='neg_mean_squared_error', cv = KFold(5, True, 1))\n",
        "    mean_scores.append(np.mean(scores))"
      ],
      "execution_count": 12,
      "outputs": []
    },
    {
      "cell_type": "markdown",
      "metadata": {
        "id": "ISQY3OWaevgF"
      },
      "source": [
        ""
      ]
    },
    {
      "cell_type": "code",
      "metadata": {
        "colab": {
          "base_uri": "https://localhost:8080/",
          "height": 128
        },
        "id": "krU5PhpMe9qK",
        "outputId": "4d3a8b58-c845-488c-ddcb-4502de3feb02"
      },
      "source": [
        "#Lasso \n",
        "column = pd.get_dummies(data, columns=[\"gdp_capita\"]).drop(\"suicides_no\", axis = 1).columns\n",
        "lasso_CVm = LassoCV(cv=KFold(2, True, 1), random_state=0, max_iter = 999)\n",
        "lasso_CVm.fit(x, y)\n",
        "lasso_CVm.coef_\n",
        "column[lasso_CVm.coef_ != 0]\n",
        "lasso_alpha = lasso_CVm.alpha_\n",
        "lasso_m = Lasso(alpha = lasso_alpha, random_state=0, max_iter = 999)\n",
        "lasso_scores = cross_val_score(lasso_m, x, y, cv=KFold(2, True, 1), scoring='neg_mean_squared_error')\n",
        "model_score[\"lasso\"] = [lasso_m, lasso_scores, lasso_scores.mean(), lasso_scores.std(), column[lasso_CVm.coef_ != 0]]"
      ],
      "execution_count": 17,
      "outputs": [
        {
          "output_type": "error",
          "ename": "SyntaxError",
          "evalue": "ignored",
          "traceback": [
            "\u001b[0;36m  File \u001b[0;32m\"<ipython-input-17-0bc01e5e6719>\"\u001b[0;36m, line \u001b[0;32m10\u001b[0m\n\u001b[0;31m    model_score[\"lasso\"] = [lasso_m, lasso_scores, lasso_scores.mean(), lasso_scores.std(), column[lasso_CVm.coef_ = 0]]\u001b[0m\n\u001b[0m                                                                                                                   ^\u001b[0m\n\u001b[0;31mSyntaxError\u001b[0m\u001b[0;31m:\u001b[0m invalid syntax\n"
          ]
        }
      ]
    },
    {
      "cell_type": "code",
      "metadata": {
        "colab": {
          "base_uri": "https://localhost:8080/",
          "height": 464
        },
        "id": "yc-pr7OUfyEf",
        "outputId": "59905f9f-fe0c-4e08-a537-8b725e307f46"
      },
      "source": [
        "#Ridge\n",
        "ridge_CVm = RidgeCV(cv=KFold(2, True, 1))\n",
        "ridge_CVm.fit(x, y)\n",
        "ridge_CVm.coef_\n",
        "data_d({\"coef\":ridge_CVm.coef_, \"c\": column}).sort_values(by = \"coef\")\n",
        "ridge_alpha = ridge_CVm.alpha_\n",
        "\n",
        "ridge_m = Ridge(alpha = ridge_alpha)\n",
        "ridge_scores = cross_val_score(ridge_m, x, y, cv=KFold(2), scoring='neg_mean_squared_error')\n",
        "model_score[\"ridge\"] = [ridge_m, ridge_scores, ridge_scores.mean(), ridge_scores.std()]"
      ],
      "execution_count": 16,
      "outputs": [
        {
          "output_type": "stream",
          "text": [
            "/usr/local/lib/python3.7/dist-packages/sklearn/linear_model/_ridge.py:148: LinAlgWarning: Ill-conditioned matrix (rcond=3.44992e-30): result may not be accurate.\n",
            "  overwrite_a=True).T\n",
            "/usr/local/lib/python3.7/dist-packages/sklearn/linear_model/_ridge.py:148: LinAlgWarning: Ill-conditioned matrix (rcond=3.3535e-30): result may not be accurate.\n",
            "  overwrite_a=True).T\n",
            "/usr/local/lib/python3.7/dist-packages/sklearn/linear_model/_ridge.py:148: LinAlgWarning: Ill-conditioned matrix (rcond=3.43696e-29): result may not be accurate.\n",
            "  overwrite_a=True).T\n",
            "/usr/local/lib/python3.7/dist-packages/sklearn/linear_model/_ridge.py:148: LinAlgWarning: Ill-conditioned matrix (rcond=3.34072e-29): result may not be accurate.\n",
            "  overwrite_a=True).T\n",
            "/usr/local/lib/python3.7/dist-packages/sklearn/linear_model/_ridge.py:148: LinAlgWarning: Ill-conditioned matrix (rcond=3.32107e-28): result may not be accurate.\n",
            "  overwrite_a=True).T\n",
            "/usr/local/lib/python3.7/dist-packages/sklearn/linear_model/_ridge.py:148: LinAlgWarning: Ill-conditioned matrix (rcond=3.22675e-28): result may not be accurate.\n",
            "  overwrite_a=True).T\n",
            "/usr/local/lib/python3.7/dist-packages/sklearn/linear_model/_ridge.py:148: LinAlgWarning: Ill-conditioned matrix (rcond=1.66712e-28): result may not be accurate.\n",
            "  overwrite_a=True).T\n"
          ],
          "name": "stderr"
        },
        {
          "output_type": "error",
          "ename": "NameError",
          "evalue": "ignored",
          "traceback": [
            "\u001b[0;31m---------------------------------------------------------------------------\u001b[0m",
            "\u001b[0;31mNameError\u001b[0m                                 Traceback (most recent call last)",
            "\u001b[0;32m<ipython-input-16-2431e1e1f478>\u001b[0m in \u001b[0;36m<module>\u001b[0;34m()\u001b[0m\n\u001b[1;32m      3\u001b[0m \u001b[0mridge_CVm\u001b[0m\u001b[0;34m.\u001b[0m\u001b[0mfit\u001b[0m\u001b[0;34m(\u001b[0m\u001b[0mx\u001b[0m\u001b[0;34m,\u001b[0m \u001b[0my\u001b[0m\u001b[0;34m)\u001b[0m\u001b[0;34m\u001b[0m\u001b[0;34m\u001b[0m\u001b[0m\n\u001b[1;32m      4\u001b[0m \u001b[0mridge_CVm\u001b[0m\u001b[0;34m.\u001b[0m\u001b[0mcoef_\u001b[0m\u001b[0;34m\u001b[0m\u001b[0;34m\u001b[0m\u001b[0m\n\u001b[0;32m----> 5\u001b[0;31m \u001b[0mdata_d\u001b[0m\u001b[0;34m(\u001b[0m\u001b[0;34m{\u001b[0m\u001b[0;34m\"coef\"\u001b[0m\u001b[0;34m:\u001b[0m\u001b[0mridge_CVm\u001b[0m\u001b[0;34m.\u001b[0m\u001b[0mcoef_\u001b[0m\u001b[0;34m,\u001b[0m \u001b[0;34m\"c\"\u001b[0m\u001b[0;34m:\u001b[0m \u001b[0mcolumn\u001b[0m\u001b[0;34m}\u001b[0m\u001b[0;34m)\u001b[0m\u001b[0;34m.\u001b[0m\u001b[0msort_values\u001b[0m\u001b[0;34m(\u001b[0m\u001b[0mby\u001b[0m \u001b[0;34m=\u001b[0m \u001b[0;34m\"coef\"\u001b[0m\u001b[0;34m)\u001b[0m\u001b[0;34m\u001b[0m\u001b[0;34m\u001b[0m\u001b[0m\n\u001b[0m\u001b[1;32m      6\u001b[0m \u001b[0mridge_alpha\u001b[0m \u001b[0;34m=\u001b[0m \u001b[0mridge_CVm\u001b[0m\u001b[0;34m.\u001b[0m\u001b[0malpha_\u001b[0m\u001b[0;34m\u001b[0m\u001b[0;34m\u001b[0m\u001b[0m\n\u001b[1;32m      7\u001b[0m \u001b[0;34m\u001b[0m\u001b[0m\n",
            "\u001b[0;31mNameError\u001b[0m: name 'column' is not defined"
          ]
        }
      ]
    }
  ]
}