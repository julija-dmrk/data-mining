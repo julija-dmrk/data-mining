{
  "nbformat": 4,
  "nbformat_minor": 0,
  "metadata": {
    "colab": {
      "name": "Untitled0.ipynb",
      "provenance": [],
      "authorship_tag": "ABX9TyPC6M142X5+ZzuQ0Ik0udX5",
      "include_colab_link": true
    },
    "kernelspec": {
      "name": "python3",
      "display_name": "Python 3"
    }
  },
  "cells": [
    {
      "cell_type": "markdown",
      "metadata": {
        "id": "view-in-github",
        "colab_type": "text"
      },
      "source": [
        "<a href=\"https://colab.research.google.com/github/julija-dmrk/data-mining/blob/main/1week.ipynb\" target=\"_parent\"><img src=\"https://colab.research.google.com/assets/colab-badge.svg\" alt=\"Open In Colab\"/></a>"
      ]
    },
    {
      "cell_type": "code",
      "metadata": {
        "id": "13UapVcpBRuq"
      },
      "source": [
        "import matplotlib.pyplot as plt   # visualization\n",
        "import seaborn as sns             # visualization\n",
        "import numpy as np                # data manipulation\n",
        "import pandas as pd               # data manipulation\n",
        "from sklearn import datasets, model_selection\n",
        "from sklearn.linear_model import Lasso, Ridge, LinearRegression\n",
        "from sklearn.metrics import mean_squared_error, r2_score, explained_variance_score\n",
        "from sklearn.model_selection import KFold, cross_val_score\n",
        "from sklearn.neighbors import KNeighborsRegressor"
      ],
      "execution_count": 68,
      "outputs": []
    },
    {
      "cell_type": "code",
      "metadata": {
        "id": "y_UXA5QZCeDD"
      },
      "source": [
        "\n",
        "url=\"https://raw.githubusercontent.com/VitaT/ML-python/main/data/fish.csv\"\n",
        "data = pd.read_csv(url)\n",
        "y = np.array(data[\"Weight\"])\n",
        "x = pd.get_dummies(data, columns = ['Species']).drop(\"Weight\", axis = 1)\n",
        "\n",
        "#y_weight = x_values[:, np.newaxis, 2]\n",
        "#regr.score(y_weight, x_values)\n"
      ],
      "execution_count": 69,
      "outputs": []
    },
    {
      "cell_type": "code",
      "metadata": {
        "colab": {
          "base_uri": "https://localhost:8080/",
          "height": 296
        },
        "id": "NgFu8KiCO-Yw",
        "outputId": "4a8faefb-fba9-487c-a1bb-4c4f53c58450"
      },
      "source": [
        "y_train, y_test, x_train, x_test = model_selection.train_test_split(x, y, test_size=0.3, random_state=50)\n",
        "regr = LinearRegression()\n",
        "regr.fit(y_train, x_train)\n",
        "y_pred = regr.predict(y_test)\n",
        "y_pred_train = regr.predict(y_train)\n",
        "\n",
        "r2_train = r2_score(x_train,y_pred_train)\n",
        "mean_square_train = mean_squared_error(x_train, y_pred_train)\n",
        "\n",
        "#w_bmi = regr.coef_\n",
        "#i_bmi = regr.intercept_\n",
        "#print('Coefficient:')\n",
        "#print(w_bmi)\n",
        "#print('Intercept: %.2f'% i_bmi)\n",
        "# Test dataset evaluation:\n",
        "print('Test Mean squared error: %.2f'% mean_squared_error(x_test, y_pred))\n",
        "print('Test R-squared: %.2f' % r2_score(x_test, y_pred))\n",
        "# train dataset evaluation:\n",
        "print('Train Mean squared error: %.2f'% mean_squared_error(x_train, y_pred_train))\n",
        "print('Train R-squared: %.2f' % r2_score(x_train, y_pred_train))\n",
        "\n",
        "from sklearn.model_selection import cross_validate\n",
        "kf = KFold(n_splits=10, shuffle=True, random_state=50)\n",
        "col = 0\n",
        "for col in range(y.shape[0]):\n",
        "  # Create linear regression object\n",
        "  print(\"------------------Column number \" + str(col))\n",
        "  scores = cross_validate(regr, y[:, np.newaxis, col], x, scoring=scoring, cv=kf, return_train_score=True)\n",
        "  # scores.keys()\n",
        "  # scores[\"test_r2\"]\n",
        "  # Test dataset evaluation:\n",
        "  print('Test Mean squared error: %.2f'%  np.mean(abs(scores[\"test_neg_mean_squared_error\"])))\n",
        "  print('Test R-squared: %.2f' %  np.mean(scores[\"test_r2\"]))\n",
        "  # train dataset evaluation:\n",
        "  print('Train Mean squared error: %.2f'%  np.mean(abs(scores[\"train_neg_mean_squared_error\"])))\n",
        "  print('Train R-squared: %.2f'  %  np.mean(scores[\"train_r2\"]))"
      ],
      "execution_count": 83,
      "outputs": [
        {
          "output_type": "stream",
          "text": [
            "Test Mean squared error: 10112.38\n",
            "Test R-squared: 0.93\n",
            "Train Mean squared error: 8607.25\n",
            "Train R-squared: 0.93\n"
          ],
          "name": "stdout"
        },
        {
          "output_type": "error",
          "ename": "IndexError",
          "evalue": "ignored",
          "traceback": [
            "\u001b[0;31m---------------------------------------------------------------------------\u001b[0m",
            "\u001b[0;31mIndexError\u001b[0m                                Traceback (most recent call last)",
            "\u001b[0;32m<ipython-input-83-829e64dd2fef>\u001b[0m in \u001b[0;36m<module>\u001b[0;34m()\u001b[0m\n\u001b[1;32m     23\u001b[0m \u001b[0mkf\u001b[0m \u001b[0;34m=\u001b[0m \u001b[0mKFold\u001b[0m\u001b[0;34m(\u001b[0m\u001b[0mn_splits\u001b[0m\u001b[0;34m=\u001b[0m\u001b[0;36m10\u001b[0m\u001b[0;34m,\u001b[0m \u001b[0mshuffle\u001b[0m\u001b[0;34m=\u001b[0m\u001b[0;32mTrue\u001b[0m\u001b[0;34m,\u001b[0m \u001b[0mrandom_state\u001b[0m\u001b[0;34m=\u001b[0m\u001b[0;36m50\u001b[0m\u001b[0;34m)\u001b[0m\u001b[0;34m\u001b[0m\u001b[0;34m\u001b[0m\u001b[0m\n\u001b[1;32m     24\u001b[0m \u001b[0mcol\u001b[0m \u001b[0;34m=\u001b[0m \u001b[0;36m0\u001b[0m\u001b[0;34m\u001b[0m\u001b[0;34m\u001b[0m\u001b[0m\n\u001b[0;32m---> 25\u001b[0;31m \u001b[0;32mfor\u001b[0m \u001b[0mcol\u001b[0m \u001b[0;32min\u001b[0m \u001b[0mrange\u001b[0m\u001b[0;34m(\u001b[0m\u001b[0my\u001b[0m\u001b[0;34m.\u001b[0m\u001b[0mshape\u001b[0m\u001b[0;34m[\u001b[0m\u001b[0;36m2\u001b[0m\u001b[0;34m]\u001b[0m\u001b[0;34m)\u001b[0m\u001b[0;34m:\u001b[0m\u001b[0;34m\u001b[0m\u001b[0;34m\u001b[0m\u001b[0m\n\u001b[0m\u001b[1;32m     26\u001b[0m   \u001b[0;31m# Create linear regression object\u001b[0m\u001b[0;34m\u001b[0m\u001b[0;34m\u001b[0m\u001b[0;34m\u001b[0m\u001b[0m\n\u001b[1;32m     27\u001b[0m   \u001b[0mprint\u001b[0m\u001b[0;34m(\u001b[0m\u001b[0;34m\"------------------Column number \"\u001b[0m \u001b[0;34m+\u001b[0m \u001b[0mstr\u001b[0m\u001b[0;34m(\u001b[0m\u001b[0mcol\u001b[0m\u001b[0;34m)\u001b[0m\u001b[0;34m)\u001b[0m\u001b[0;34m\u001b[0m\u001b[0;34m\u001b[0m\u001b[0m\n",
            "\u001b[0;31mIndexError\u001b[0m: tuple index out of range"
          ]
        }
      ]
    },
    {
      "cell_type": "code",
      "metadata": {
        "id": "9vRf5VmYGVGU"
      },
      "source": [
        "regressors = [\n",
        "    LinearRegression(),\n",
        "    Lasso(),\n",
        "    Ridge(), \n",
        "    KNeighborsRegressor(),\n",
        "    KNeighborsRegressor(n_neighbors=9, metric='manhattan')\n",
        "]\n"
      ],
      "execution_count": 71,
      "outputs": []
    },
    {
      "cell_type": "code",
      "metadata": {
        "id": "DTsZPdIvGjqm"
      },
      "source": [
        "X__train = y_train\n",
        "y__train = x_train\n",
        "X__test = y_test\n",
        "y__test = x_test"
      ],
      "execution_count": 72,
      "outputs": []
    },
    {
      "cell_type": "code",
      "metadata": {
        "colab": {
          "base_uri": "https://localhost:8080/"
        },
        "id": "vCWvwMZEHlxf",
        "outputId": "9cbc851b-9d26-48d9-df9d-4961df04f476"
      },
      "source": [
        "head = 5\n",
        "for model in regressors[:head]:\n",
        "    model.fit(X__train, y__train)\n",
        "    predictions = model.predict(X__test)\n",
        "    pred_train = model.predict(X__train)\n",
        "    print(model)\n",
        "    print(\"\\ttrain\")\n",
        "    print(\"\\tExplained variance:\", explained_variance_score(y__train, pred_train))\n",
        "    print(\"\\tMean squared error:\", mean_squared_error(y__train, pred_train))\n",
        "    print(\"\\tR2 score:\", r2_score(y__train, pred_train))\n",
        "    print(\"\\ttest\")\n",
        "    print(\"\\tExplained variance:\", explained_variance_score(y__test, predictions))\n",
        "    print(\"\\tMean squared error:\", mean_squared_error(y__test, predictions))\n",
        "    print(\"\\tR2 score:\", r2_score(y__test, predictions))\n",
        "    print()"
      ],
      "execution_count": 74,
      "outputs": [
        {
          "output_type": "stream",
          "text": [
            "LinearRegression(copy_X=True, fit_intercept=True, n_jobs=None, normalize=False)\n",
            "\ttrain\n",
            "\tExplained variance: 0.9334739593926334\n",
            "\tMean squared error: 8607.254669384445\n",
            "\tR2 score: 0.9334739593926334\n",
            "\ttest\n",
            "\tExplained variance: 0.9264654153165548\n",
            "\tMean squared error: 10112.376692994363\n",
            "\tR2 score: 0.9260251886831783\n",
            "\n",
            "Lasso(alpha=1.0, copy_X=True, fit_intercept=True, max_iter=1000,\n",
            "      normalize=False, positive=False, precompute=False, random_state=None,\n",
            "      selection='cyclic', tol=0.0001, warm_start=False)\n",
            "\ttrain\n",
            "\tExplained variance: 0.9298643262521638\n",
            "\tMean squared error: 9074.275273938993\n",
            "\tR2 score: 0.9298643262521638\n",
            "\ttest\n",
            "\tExplained variance: 0.9273959000375028\n",
            "\tMean squared error: 9937.654668517744\n",
            "\tR2 score: 0.9273033282527322\n",
            "\n",
            "Ridge(alpha=1.0, copy_X=True, fit_intercept=True, max_iter=None,\n",
            "      normalize=False, random_state=None, solver='auto', tol=0.001)\n",
            "\ttrain\n",
            "\tExplained variance: 0.9297221420522728\n",
            "\tMean squared error: 9092.671312651815\n",
            "\tR2 score: 0.9297221420522728\n",
            "\ttest\n",
            "\tExplained variance: 0.9244997411858713\n",
            "\tMean squared error: 10354.104041056136\n",
            "\tR2 score: 0.9242568867789015\n",
            "\n",
            "KNeighborsRegressor(algorithm='auto', leaf_size=30, metric='minkowski',\n",
            "                    metric_params=None, n_jobs=None, n_neighbors=5, p=2,\n",
            "                    weights='uniform')\n",
            "\ttrain\n",
            "\tExplained variance: 0.9510135115161554\n",
            "\tMean squared error: 6374.483572549019\n",
            "\tR2 score: 0.9507311948713707\n",
            "\ttest\n",
            "\tExplained variance: 0.9183302459906705\n",
            "\tMean squared error: 11177.934568888886\n",
            "\tR2 score: 0.9182303403295703\n",
            "\n",
            "KNeighborsRegressor(algorithm='auto', leaf_size=30, metric='manhattan',\n",
            "                    metric_params=None, n_jobs=None, n_neighbors=9, p=2,\n",
            "                    weights='uniform')\n",
            "\ttrain\n",
            "\tExplained variance: 0.8755955974688934\n",
            "\tMean squared error: 16167.981745340112\n",
            "\tR2 score: 0.8750365997702517\n",
            "\ttest\n",
            "\tExplained variance: 0.8758790819458824\n",
            "\tMean squared error: 16973.1479478738\n",
            "\tR2 score: 0.8758367636990514\n",
            "\n"
          ],
          "name": "stdout"
        },
        {
          "output_type": "stream",
          "text": [
            "/usr/local/lib/python3.6/dist-packages/sklearn/linear_model/_coordinate_descent.py:476: ConvergenceWarning: Objective did not converge. You might want to increase the number of iterations. Duality gap: 85425.33875986433, tolerance: 1319.6937143137256\n",
            "  positive)\n"
          ],
          "name": "stderr"
        }
      ]
    }
  ]
}