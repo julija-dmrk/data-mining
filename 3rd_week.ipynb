{
  "nbformat": 4,
  "nbformat_minor": 0,
  "metadata": {
    "colab": {
      "name": "3rd week.ipynb",
      "provenance": [],
      "authorship_tag": "ABX9TyOiSWG3bKmpP5MXsYMp8K5N",
      "include_colab_link": true
    },
    "kernelspec": {
      "name": "python3",
      "display_name": "Python 3"
    }
  },
  "cells": [
    {
      "cell_type": "markdown",
      "metadata": {
        "id": "view-in-github",
        "colab_type": "text"
      },
      "source": [
        "<a href=\"https://colab.research.google.com/github/julija-dmrk/data-mining/blob/main/3rd_week.ipynb\" target=\"_parent\"><img src=\"https://colab.research.google.com/assets/colab-badge.svg\" alt=\"Open In Colab\"/></a>"
      ]
    },
    {
      "cell_type": "markdown",
      "metadata": {
        "id": "RL9E2cLUib3K"
      },
      "source": [
        "Suicide's data classification"
      ]
    },
    {
      "cell_type": "code",
      "metadata": {
        "id": "35XNIdTlhVHS"
      },
      "source": [
        "import matplotlib.pyplot as plt   # visualization\r\n",
        "import seaborn as sns             # visualization\r\n",
        "import numpy as np                # data manipulation\r\n",
        "import pandas as pd               # data manipulation, data processing, CSV file I/O (e.g. pd.read_csv\r\n",
        "from sklearn import pipeline\r\n",
        "# import statsmodels.api as sm\r\n",
        "# import statsmodels.formula.api as smf\r\n",
        "from sklearn.decomposition import PCA\r\n",
        "from sklearn.linear_model import Lasso, LassoCV, Ridge, RidgeCV, LinearRegression\r\n",
        "from sklearn.neighbors import KNeighborsRegressor\r\n",
        "from sklearn.metrics import mean_squared_error, r2_score, explained_variance_score\r\n",
        "from sklearn.model_selection import KFold, StratifiedKFold, LeaveOneOut, cross_val_score, cross_validate, GridSearchCV, train_test_split"
      ],
      "execution_count": 1,
      "outputs": []
    },
    {
      "cell_type": "code",
      "metadata": {
        "id": "6NC1Ua3SiQWb"
      },
      "source": [
        "url = \"https://raw.githubusercontent.com/VitaT/ML-python/main/data/suicides.csv\"\r\n",
        "data = pd.read_csv(url)"
      ],
      "execution_count": 2,
      "outputs": []
    },
    {
      "cell_type": "code",
      "metadata": {
        "id": "YKl9DtRKiatG"
      },
      "source": [
        "data.info()\r\n",
        "data.head(5)\r\n",
        "data.shape\r\n",
        "data.sample(10)"
      ],
      "execution_count": null,
      "outputs": []
    }
  ]
}